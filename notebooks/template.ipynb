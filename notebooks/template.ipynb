{
 "cells": [
  {
   "cell_type": "markdown",
   "id": "08cbb094",
   "metadata": {},
   "source": [
    "# IPYNB Template"
   ]
  },
  {
   "cell_type": "code",
   "execution_count": null,
   "id": "928a7f15",
   "metadata": {},
   "outputs": [],
   "source": [
    "# Welcome to your new Jupyter Notebook!\n",
    "\n",
    "print(\"Hello, Jupyter Notebook! 🚀\")\n",
    "\n",
    "# Will be used later for the analytics portion"
   ]
  }
 ],
 "metadata": {
  "language_info": {
   "name": "python"
  }
 },
 "nbformat": 4,
 "nbformat_minor": 5
}

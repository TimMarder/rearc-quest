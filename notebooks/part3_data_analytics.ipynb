{
 "cells": [
  {
   "cell_type": "markdown",
   "id": "b57a74fe",
   "metadata": {},
   "source": [
    "# Part 3: Data Analytics"
   ]
  },
  {
   "cell_type": "code",
   "execution_count": null,
   "id": "9ba2bac2",
   "metadata": {},
   "outputs": [],
   "source": [
    "import os, json\n",
    "import pandas as pd\n",
    "import fsspec\n",
    "\n",
    "os.environ[\"AWS_ACCESS_KEY_ID\"] = \"\"\n",
    "os.environ[\"AWS_SECRET_ACCESS_KEY\"] = \"\"\n",
    "\n",
    "bucket = \"rearc-quest-tim\"\n",
    "csv_key = \"pr.data.0.Current\"\n",
    "json_key = \"datausa/2025-06-30.json\"\n",
    "\n",
    "storage = {\"key\": os.getenv(\"AWS_ACCESS_KEY_ID\"),\n",
    "           \"secret\": os.getenv(\"AWS_SECRET_ACCESS_KEY\")}"
   ]
  },
  {
   "cell_type": "code",
   "execution_count": null,
   "id": "677338d1",
   "metadata": {},
   "outputs": [],
   "source": [
    "bls = (\n",
    "    pd.read_csv(f\"s3://{bucket}/{csv_key}\", sep=\"\\t\", storage_options=storage)\n",
    "      .rename(columns=lambda c: c.strip())\n",
    "      .assign(series_id=lambda df: df[\"series_id\"].str.strip())\n",
    "      .query(\"period.str.startswith('Q')\", engine=\"python\")\n",
    "      .astype({\"year\": int, \"value\": float})\n",
    ")\n",
    "\n",
    "with fsspec.open(f\"s3://{bucket}/{json_key}\", **storage) as f:\n",
    "    data = json.load(f)\n",
    "\n",
    "pop = (\n",
    "    pd.json_normalize(data[\"data\"])[[\"Year\", \"Population\"]]\n",
    "      .rename(columns={\"Year\": \"year\", \"Population\": \"population\"})\n",
    "      .astype({\"year\": int})\n",
    ")"
   ]
  },
  {
   "cell_type": "code",
   "execution_count": null,
   "id": "468e6a36",
   "metadata": {},
   "outputs": [],
   "source": [
    "mask = pop[\"year\"].between(2013, 2018)\n",
    "mean_p = pop.loc[mask, \"population\"].mean()\n",
    "std_p  = pop.loc[mask, \"population\"].std()\n",
    "\n",
    "print(f\"Mean population 2013-2018: {mean_p:,.0f}\")\n",
    "print(f\"Std-dev population 2013-2018: {std_p:,.0f}\")"
   ]
  },
  {
   "cell_type": "code",
   "execution_count": null,
   "id": "f9d64ebd",
   "metadata": {},
   "outputs": [],
   "source": [
    "### JUST TO TEST THE INPUT TABLE\n",
    "\n",
    "# pd.set_option(\"display.max_rows\", None)\n",
    "# pd.set_option(\"display.max_columns\", None)\n",
    "# pd.set_option(\"display.width\", None) \n",
    "\n",
    "# bls.head(20)"
   ]
  },
  {
   "cell_type": "code",
   "execution_count": null,
   "id": "5e22001f",
   "metadata": {},
   "outputs": [],
   "source": [
    "best_year = (\n",
    "    bls.groupby([\"series_id\", \"year\"], as_index=False)\n",
    "       .agg(year_sum=(\"value\", lambda s: round(s.sum(), 1)))\n",
    "       .sort_values([\"series_id\", \"year_sum\"], ascending=[True, False])\n",
    "       .drop_duplicates(\"series_id\", keep=\"first\")\n",
    "       .reset_index(drop=True)\n",
    ")\n",
    "\n",
    "best_year.head()"
   ]
  },
  {
   "cell_type": "code",
   "execution_count": null,
   "id": "5a69e675",
   "metadata": {},
   "outputs": [],
   "source": [
    "target = (\n",
    "    bls.query(\"series_id == 'PRS30006032' and period == 'Q01'\")\n",
    "        .loc[:, [\"series_id\", \"year\", \"period\", \"value\"]]\n",
    ")\n",
    "\n",
    "joined = (\n",
    "    target.merge(pop, on=\"year\", how=\"left\")\n",
    "          .dropna(subset=[\"population\"])\n",
    "          .rename(columns={\"population\": \"Population\"})\n",
    "          .astype({\"Population\": \"int64\"})\n",
    "          .sort_values(\"year\")\n",
    "          .reset_index(drop=True)\n",
    ")\n",
    "\n",
    "joined.head()"
   ]
  }
 ],
 "metadata": {
  "language_info": {
   "name": "python"
  }
 },
 "nbformat": 4,
 "nbformat_minor": 5
}

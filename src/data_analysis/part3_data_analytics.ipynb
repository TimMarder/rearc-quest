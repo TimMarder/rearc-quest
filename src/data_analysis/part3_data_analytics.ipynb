{
 "cells": [
  {
   "cell_type": "markdown",
   "id": "b57a74fe",
   "metadata": {},
   "source": [
    "# Part 3: Data Analytics"
   ]
  },
  {
   "cell_type": "code",
   "execution_count": 7,
   "id": "9ba2bac2",
   "metadata": {},
   "outputs": [
    {
     "name": "stdout",
     "output_type": "stream",
     "text": [
      "Using latest population file: datausa/2025-07-01.json\n"
     ]
    }
   ],
   "source": [
    "import os, json\n",
    "import pandas as pd\n",
    "import fsspec\n",
    "import boto3\n",
    "\n",
    "session = boto3.Session(profile_name=\"rearc\")\n",
    "s3 = session.client(\"s3\")\n",
    "\n",
    "bucket = \"rearc-quest-tim\"\n",
    "csv_key = \"pr.data.0.Current\"\n",
    "resp = s3.list_objects_v2(Bucket=bucket, Prefix=\"datausa/\")\n",
    "latest = max(resp[\"Contents\"], key=lambda o: o[\"LastModified\"])\n",
    "json_key = latest[\"Key\"]\n",
    "\n",
    "print(f\"Using latest population file: {json_key}\")"
   ]
  },
  {
   "cell_type": "code",
   "execution_count": 8,
   "id": "677338d1",
   "metadata": {},
   "outputs": [],
   "source": [
    "bls = (\n",
    "    pd.read_csv(f\"s3://{bucket}/{csv_key}\", sep=\"\\t\")\n",
    "      .rename(columns=lambda c: c.strip())\n",
    "      .assign(series_id=lambda df: df[\"series_id\"].str.strip())\n",
    "      .query(\"period.str.startswith('Q')\", engine=\"python\")\n",
    "      .astype({\"year\": int, \"value\": float})\n",
    ")\n",
    "\n",
    "with fsspec.open(f\"s3://{bucket}/{json_key}\") as f:\n",
    "    data = json.load(f)\n",
    "\n",
    "pop = (\n",
    "    pd.json_normalize(data[\"data\"])[[\"Year\", \"Population\"]]\n",
    "      .rename(columns={\"Year\": \"year\", \"Population\": \"population\"})\n",
    "      .astype({\"year\": int})\n",
    ")"
   ]
  },
  {
   "cell_type": "code",
   "execution_count": 3,
   "id": "468e6a36",
   "metadata": {},
   "outputs": [
    {
     "name": "stdout",
     "output_type": "stream",
     "text": [
      "Mean population 2013-2018: 317,437,383\n",
      "Std-dev population 2013-2018: 4,257,090\n"
     ]
    }
   ],
   "source": [
    "mask = pop[\"year\"].between(2013, 2018)\n",
    "mean_p = pop.loc[mask, \"population\"].mean()\n",
    "std_p  = pop.loc[mask, \"population\"].std()\n",
    "\n",
    "print(f\"Mean population 2013-2018: {mean_p:,.0f}\")\n",
    "print(f\"Std-dev population 2013-2018: {std_p:,.0f}\")"
   ]
  },
  {
   "cell_type": "code",
   "execution_count": 9,
   "id": "f9d64ebd",
   "metadata": {},
   "outputs": [],
   "source": [
    "### JUST TO TEST THE INPUT TABLE\n",
    "\n",
    "# pd.set_option(\"display.max_rows\", None)\n",
    "# pd.set_option(\"display.max_columns\", None)\n",
    "# pd.set_option(\"display.width\", None) \n",
    "\n",
    "# bls.head(20)"
   ]
  },
  {
   "cell_type": "code",
   "execution_count": 10,
   "id": "5e22001f",
   "metadata": {},
   "outputs": [
    {
     "data": {
      "text/html": [
       "<div>\n",
       "<style scoped>\n",
       "    .dataframe tbody tr th:only-of-type {\n",
       "        vertical-align: middle;\n",
       "    }\n",
       "\n",
       "    .dataframe tbody tr th {\n",
       "        vertical-align: top;\n",
       "    }\n",
       "\n",
       "    .dataframe thead th {\n",
       "        text-align: right;\n",
       "    }\n",
       "</style>\n",
       "<table border=\"1\" class=\"dataframe\">\n",
       "  <thead>\n",
       "    <tr style=\"text-align: right;\">\n",
       "      <th></th>\n",
       "      <th>series_id</th>\n",
       "      <th>year</th>\n",
       "      <th>year_sum</th>\n",
       "    </tr>\n",
       "  </thead>\n",
       "  <tbody>\n",
       "    <tr>\n",
       "      <th>0</th>\n",
       "      <td>PRS30006011</td>\n",
       "      <td>2022</td>\n",
       "      <td>20.5</td>\n",
       "    </tr>\n",
       "    <tr>\n",
       "      <th>1</th>\n",
       "      <td>PRS30006012</td>\n",
       "      <td>2022</td>\n",
       "      <td>17.1</td>\n",
       "    </tr>\n",
       "    <tr>\n",
       "      <th>2</th>\n",
       "      <td>PRS30006013</td>\n",
       "      <td>1998</td>\n",
       "      <td>705.9</td>\n",
       "    </tr>\n",
       "    <tr>\n",
       "      <th>3</th>\n",
       "      <td>PRS30006021</td>\n",
       "      <td>2010</td>\n",
       "      <td>17.7</td>\n",
       "    </tr>\n",
       "    <tr>\n",
       "      <th>4</th>\n",
       "      <td>PRS30006022</td>\n",
       "      <td>2010</td>\n",
       "      <td>12.4</td>\n",
       "    </tr>\n",
       "  </tbody>\n",
       "</table>\n",
       "</div>"
      ],
      "text/plain": [
       "     series_id  year  year_sum\n",
       "0  PRS30006011  2022      20.5\n",
       "1  PRS30006012  2022      17.1\n",
       "2  PRS30006013  1998     705.9\n",
       "3  PRS30006021  2010      17.7\n",
       "4  PRS30006022  2010      12.4"
      ]
     },
     "execution_count": 10,
     "metadata": {},
     "output_type": "execute_result"
    }
   ],
   "source": [
    "best_year = (\n",
    "    bls.groupby([\"series_id\", \"year\"], as_index=False)\n",
    "       .agg(year_sum=(\"value\", lambda s: round(s.sum(), 1)))\n",
    "       .sort_values([\"series_id\", \"year_sum\"], ascending=[True, False])\n",
    "       .drop_duplicates(\"series_id\", keep=\"first\")\n",
    "       .reset_index(drop=True)\n",
    ")\n",
    "\n",
    "best_year.head()"
   ]
  },
  {
   "cell_type": "code",
   "execution_count": 11,
   "id": "5a69e675",
   "metadata": {},
   "outputs": [
    {
     "data": {
      "text/html": [
       "<div>\n",
       "<style scoped>\n",
       "    .dataframe tbody tr th:only-of-type {\n",
       "        vertical-align: middle;\n",
       "    }\n",
       "\n",
       "    .dataframe tbody tr th {\n",
       "        vertical-align: top;\n",
       "    }\n",
       "\n",
       "    .dataframe thead th {\n",
       "        text-align: right;\n",
       "    }\n",
       "</style>\n",
       "<table border=\"1\" class=\"dataframe\">\n",
       "  <thead>\n",
       "    <tr style=\"text-align: right;\">\n",
       "      <th></th>\n",
       "      <th>series_id</th>\n",
       "      <th>year</th>\n",
       "      <th>period</th>\n",
       "      <th>value</th>\n",
       "      <th>Population</th>\n",
       "    </tr>\n",
       "  </thead>\n",
       "  <tbody>\n",
       "    <tr>\n",
       "      <th>0</th>\n",
       "      <td>PRS30006032</td>\n",
       "      <td>2013</td>\n",
       "      <td>Q01</td>\n",
       "      <td>0.5</td>\n",
       "      <td>311536594</td>\n",
       "    </tr>\n",
       "    <tr>\n",
       "      <th>1</th>\n",
       "      <td>PRS30006032</td>\n",
       "      <td>2014</td>\n",
       "      <td>Q01</td>\n",
       "      <td>-0.1</td>\n",
       "      <td>314107084</td>\n",
       "    </tr>\n",
       "    <tr>\n",
       "      <th>2</th>\n",
       "      <td>PRS30006032</td>\n",
       "      <td>2015</td>\n",
       "      <td>Q01</td>\n",
       "      <td>-1.7</td>\n",
       "      <td>316515021</td>\n",
       "    </tr>\n",
       "    <tr>\n",
       "      <th>3</th>\n",
       "      <td>PRS30006032</td>\n",
       "      <td>2016</td>\n",
       "      <td>Q01</td>\n",
       "      <td>-1.4</td>\n",
       "      <td>318558162</td>\n",
       "    </tr>\n",
       "    <tr>\n",
       "      <th>4</th>\n",
       "      <td>PRS30006032</td>\n",
       "      <td>2017</td>\n",
       "      <td>Q01</td>\n",
       "      <td>0.9</td>\n",
       "      <td>321004407</td>\n",
       "    </tr>\n",
       "  </tbody>\n",
       "</table>\n",
       "</div>"
      ],
      "text/plain": [
       "     series_id  year period  value  Population\n",
       "0  PRS30006032  2013    Q01    0.5   311536594\n",
       "1  PRS30006032  2014    Q01   -0.1   314107084\n",
       "2  PRS30006032  2015    Q01   -1.7   316515021\n",
       "3  PRS30006032  2016    Q01   -1.4   318558162\n",
       "4  PRS30006032  2017    Q01    0.9   321004407"
      ]
     },
     "execution_count": 11,
     "metadata": {},
     "output_type": "execute_result"
    }
   ],
   "source": [
    "target = (\n",
    "    bls.query(\"series_id == 'PRS30006032' and period == 'Q01'\")\n",
    "        .loc[:, [\"series_id\", \"year\", \"period\", \"value\"]]\n",
    ")\n",
    "\n",
    "joined = (\n",
    "    target.merge(pop, on=\"year\", how=\"left\")\n",
    "          .dropna(subset=[\"population\"])\n",
    "          .rename(columns={\"population\": \"Population\"})\n",
    "          .astype({\"Population\": \"int64\"})\n",
    "          .sort_values(\"year\")\n",
    "          .reset_index(drop=True)\n",
    ")\n",
    "\n",
    "joined.head()"
   ]
  }
 ],
 "metadata": {
  "kernelspec": {
   "display_name": ".venv",
   "language": "python",
   "name": "python3"
  },
  "language_info": {
   "codemirror_mode": {
    "name": "ipython",
    "version": 3
   },
   "file_extension": ".py",
   "mimetype": "text/x-python",
   "name": "python",
   "nbconvert_exporter": "python",
   "pygments_lexer": "ipython3",
   "version": "3.13.5"
  }
 },
 "nbformat": 4,
 "nbformat_minor": 5
}
